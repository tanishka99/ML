{
  "nbformat": 4,
  "nbformat_minor": 0,
  "metadata": {
    "colab": {
      "name": "twitter_Sentiment.ipynb",
      "version": "0.3.2",
      "provenance": [],
      "collapsed_sections": [],
      "include_colab_link": true
    },
    "kernelspec": {
      "name": "python3",
      "display_name": "Python 3"
    }
  },
  "cells": [
    {
      "cell_type": "markdown",
      "metadata": {
        "id": "view-in-github",
        "colab_type": "text"
      },
      "source": [
        "<a href=\"https://colab.research.google.com/github/tanishka99/ML/blob/master/twitter_Sentiment.ipynb\" target=\"_parent\"><img src=\"https://colab.research.google.com/assets/colab-badge.svg\" alt=\"Open In Colab\"/></a>"
      ]
    },
    {
      "cell_type": "code",
      "metadata": {
        "id": "b3SIxB5nK87F",
        "colab_type": "code",
        "outputId": "cf475aae-4f20-4adf-be9a-972df9c4d200",
        "colab": {
          "base_uri": "https://localhost:8080/",
          "height": 238
        }
      },
      "source": [
        "!pip3 install tweepy\n",
        "!pip3 install textblob\n",
        "import tweepy\n",
        "from textblob import TextBlob\n",
        "import matplotlib.pyplot as plt"
      ],
      "execution_count": 0,
      "outputs": [
        {
          "output_type": "stream",
          "text": [
            "Requirement already satisfied: tweepy in /usr/local/lib/python3.6/dist-packages (3.6.0)\n",
            "Requirement already satisfied: six>=1.10.0 in /usr/local/lib/python3.6/dist-packages (from tweepy) (1.12.0)\n",
            "Requirement already satisfied: requests-oauthlib>=0.7.0 in /usr/local/lib/python3.6/dist-packages (from tweepy) (1.2.0)\n",
            "Requirement already satisfied: PySocks>=1.5.7 in /usr/local/lib/python3.6/dist-packages (from tweepy) (1.7.0)\n",
            "Requirement already satisfied: requests>=2.11.1 in /usr/local/lib/python3.6/dist-packages (from tweepy) (2.21.0)\n",
            "Requirement already satisfied: oauthlib>=3.0.0 in /usr/local/lib/python3.6/dist-packages (from requests-oauthlib>=0.7.0->tweepy) (3.0.1)\n",
            "Requirement already satisfied: urllib3<1.25,>=1.21.1 in /usr/local/lib/python3.6/dist-packages (from requests>=2.11.1->tweepy) (1.24.3)\n",
            "Requirement already satisfied: chardet<3.1.0,>=3.0.2 in /usr/local/lib/python3.6/dist-packages (from requests>=2.11.1->tweepy) (3.0.4)\n",
            "Requirement already satisfied: certifi>=2017.4.17 in /usr/local/lib/python3.6/dist-packages (from requests>=2.11.1->tweepy) (2019.6.16)\n",
            "Requirement already satisfied: idna<2.9,>=2.5 in /usr/local/lib/python3.6/dist-packages (from requests>=2.11.1->tweepy) (2.8)\n",
            "Requirement already satisfied: textblob in /usr/local/lib/python3.6/dist-packages (0.15.3)\n",
            "Requirement already satisfied: nltk>=3.1 in /usr/local/lib/python3.6/dist-packages (from textblob) (3.2.5)\n",
            "Requirement already satisfied: six in /usr/local/lib/python3.6/dist-packages (from nltk>=3.1->textblob) (1.12.0)\n"
          ],
          "name": "stdout"
        }
      ]
    },
    {
      "cell_type": "code",
      "metadata": {
        "id": "G4D_4-B2K-i8",
        "colab_type": "code",
        "colab": {}
      },
      "source": [
        "\n",
        "# all 4 authentication keys to access twitter API\n",
        "#to connect as OAth or jump server /reverse proxy server\n",
        "consumer_key='TWyUu4QFtwJruyXdifboIR037'\n",
        "consumer_sec='SqFYdd7peHnEcBxNNXh5RtT973mpLLmvuBvtOlmU2Si0JtfYj1'\n",
        "\n",
        "#from proxy server we need to connect to webserver of twitter \n",
        "access_token='1053166154687033345-08NKa04Y23CljhiC9q24EFekIVvI6N'\n",
        "access_sec='34naDLZU2l9UKCcbEsZe81uZ9KGB8lyk0TnW6KqHC7lsi'\n"
      ],
      "execution_count": 0,
      "outputs": []
    },
    {
      "cell_type": "code",
      "metadata": {
        "id": "vNZ3J3TgO8Xd",
        "colab_type": "code",
        "colab": {}
      },
      "source": [
        "#tweepy explore--\n",
        "#connecting to jump server of twitter\n",
        "auth=tweepy.OAuthHandler(consumer_key,consumer_sec)\n"
      ],
      "execution_count": 0,
      "outputs": []
    },
    {
      "cell_type": "code",
      "metadata": {
        "id": "JBjW1KaiPQAt",
        "colab_type": "code",
        "colab": {}
      },
      "source": [
        "#now we can connect from jump server to websserver of twitter\n",
        "auth.set_access_token(access_token,access_sec)\n"
      ],
      "execution_count": 0,
      "outputs": []
    },
    {
      "cell_type": "code",
      "metadata": {
        "id": "Ys43TppTPgPj",
        "colab_type": "code",
        "colab": {}
      },
      "source": [
        "#now we can connect to API storage server of twitter\n",
        "api_connect=tweepy.API(auth)"
      ],
      "execution_count": 0,
      "outputs": []
    },
    {
      "cell_type": "code",
      "metadata": {
        "id": "QtO0ZV3APwrs",
        "colab_type": "code",
        "colab": {}
      },
      "source": [
        "#now you can search any topic on twitter\n",
        "tweet_data=api_connect.search('calumhood',count=10)"
      ],
      "execution_count": 0,
      "outputs": []
    },
    {
      "cell_type": "code",
      "metadata": {
        "id": "HtKkscxJQC11",
        "colab_type": "code",
        "outputId": "aa5a2b36-a91e-40c6-abea-87c7558c69b8",
        "colab": {
          "base_uri": "https://localhost:8080/",
          "height": 289
        }
      },
      "source": [
        "pos=0\n",
        "neg=0\n",
        "neu=0\n",
        "\n",
        "\n",
        "##printing line by line\n",
        "\n",
        "for tweet in tweet_data:\n",
        "  #print(tweet.text)\n",
        "  analysis=TextBlob(tweet.text)   #here it will apply NLP\n",
        "  print(analysis.sentiment)\n",
        "  #now checking polarity only\n",
        "  if analysis.sentiment.polarity > 0:\n",
        "    print(\"positive\")\n",
        "    pos=pos+1\n",
        "  elif analysis.sentiment.polarity==0:\n",
        "    print(\"neutral\")\n",
        "    neu=neu+1\n",
        "  else:\n",
        "    print(\"negative\")\n",
        "    neg=neg+1"
      ],
      "execution_count": 0,
      "outputs": [
        {
          "output_type": "stream",
          "text": [
            "Sentiment(polarity=0.0, subjectivity=0.1)\n",
            "neutral\n",
            "Sentiment(polarity=0.0, subjectivity=0.1)\n",
            "neutral\n",
            "Sentiment(polarity=0.0, subjectivity=0.1)\n",
            "neutral\n",
            "Sentiment(polarity=0.0, subjectivity=0.1)\n",
            "neutral\n",
            "Sentiment(polarity=1.0, subjectivity=1.0)\n",
            "positive\n",
            "Sentiment(polarity=0.0, subjectivity=0.125)\n",
            "neutral\n",
            "Sentiment(polarity=0.10000000000000003, subjectivity=0.95)\n",
            "positive\n",
            "Sentiment(polarity=0.5, subjectivity=0.6)\n",
            "positive\n"
          ],
          "name": "stdout"
        }
      ]
    },
    {
      "cell_type": "code",
      "metadata": {
        "id": "AWqlwbt9QfLW",
        "colab_type": "code",
        "colab": {}
      },
      "source": [
        "#plotting graphs\n",
        "plt.xlabel(\"tags\")\n",
        "plt.ylabel(\"polarity\")\n",
        "plt.bar(['pos','neg','neu'],[pos,neg,neu],autopct=\"%1.1f%%\")\n",
        "plt.show()"
      ],
      "execution_count": 0,
      "outputs": []
    },
    {
      "cell_type": "code",
      "metadata": {
        "id": "FLBjOH7vTNJX",
        "colab_type": "code",
        "colab": {}
      },
      "source": [
        ""
      ],
      "execution_count": 0,
      "outputs": []
    }
  ]
}